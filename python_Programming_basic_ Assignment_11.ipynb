{
 "cells": [
  {
   "cell_type": "markdown",
   "metadata": {},
   "source": [
    "# python_Programming_basic_ Assignment_11"
   ]
  },
  {
   "cell_type": "markdown",
   "metadata": {},
   "source": [
    "1. Write a Python program to find words which are greater than given length k?\n"
   ]
  },
  {
   "cell_type": "code",
   "execution_count": 8,
   "metadata": {},
   "outputs": [
    {
     "name": "stdout",
     "output_type": "stream",
     "text": [
      "enter the sentence: radhika mishra is a good girl\n",
      "determine length: 2\n",
      "['radhika', 'mishra', 'good', 'girl']\n"
     ]
    }
   ],
   "source": [
    "sentence=input(\"enter the sentence: \")\n",
    "word=sentence.split(\" \")\n",
    "k=input(\"determine length: \")\n",
    "list_words=[]\n",
    "\n",
    "for i in word:\n",
    "    if len(i)>int(k):\n",
    "        list_words.append(i)\n",
    "print(list_words)\n",
    "       "
   ]
  },
  {
   "cell_type": "markdown",
   "metadata": {},
   "source": [
    "2. Write a Python program for removing i-th character from a string?\n"
   ]
  },
  {
   "cell_type": "code",
   "execution_count": 36,
   "metadata": {},
   "outputs": [
    {
     "name": "stdout",
     "output_type": "stream",
     "text": [
      "enter a string: appple\n",
      "character no to be removed: 2\n"
     ]
    },
    {
     "data": {
      "text/plain": [
       "'apple'"
      ]
     },
     "execution_count": 36,
     "metadata": {},
     "output_type": "execute_result"
    }
   ],
   "source": [
    "def remove_ch(ch):\n",
    "    ch=input(\"enter a string: \")\n",
    "    k=int(input(\"character no to be removed: \"))\n",
    "    for i in range(len(ch)):\n",
    "        if k==i:\n",
    "            return (ch.replace(ch[i],'',1))\n",
    "\n",
    "remove_ch(ch)"
   ]
  },
  {
   "cell_type": "markdown",
   "metadata": {},
   "source": [
    "3. Write a Python program to split and join a string?\n"
   ]
  },
  {
   "cell_type": "code",
   "execution_count": 40,
   "metadata": {},
   "outputs": [
    {
     "name": "stdout",
     "output_type": "stream",
     "text": [
      "enter a string: india is my country\n",
      "['india', 'is', 'my', 'country']\n"
     ]
    },
    {
     "data": {
      "text/plain": [
       "'india is my country'"
      ]
     },
     "execution_count": 40,
     "metadata": {},
     "output_type": "execute_result"
    }
   ],
   "source": [
    "def SplitAndJoin():\n",
    "    ch=input(\"enter a string: \")\n",
    "    split_ch=ch.split(\" \")\n",
    "    print(split_ch)\n",
    "    return \" \".join(split_ch)\n",
    "SplitAndJoin()\n",
    "\n"
   ]
  },
  {
   "cell_type": "markdown",
   "metadata": {},
   "source": [
    "4. Write a Python to check if a given string is binary string or not?\n"
   ]
  },
  {
   "cell_type": "code",
   "execution_count": 68,
   "metadata": {},
   "outputs": [
    {
     "name": "stdout",
     "output_type": "stream",
     "text": [
      "enter a string: 0000010101\n",
      "True\n"
     ]
    }
   ],
   "source": [
    "def check_binary():\n",
    "    ch=input(\"enter a string: \")\n",
    "    flag=0\n",
    "    for i in ch:\n",
    "        if i in ['0','1']:\n",
    "            flag=1\n",
    "            continue\n",
    "        else:\n",
    "            flag=0\n",
    "            break\n",
    "    if flag==1:\n",
    "        print(\"True\")\n",
    "    else:\n",
    "        print(\"False\")\n",
    "       \n",
    "          \n",
    "check_binary()\n",
    "        \n",
    "    "
   ]
  },
  {
   "cell_type": "markdown",
   "metadata": {},
   "source": [
    "5. Write a Python program to find uncommon words from two Strings?\n"
   ]
  },
  {
   "cell_type": "code",
   "execution_count": 96,
   "metadata": {},
   "outputs": [
    {
     "name": "stdout",
     "output_type": "stream",
     "text": [
      "enter a string_1: india is my country\n",
      "enter a string_2: india is the best country\n"
     ]
    },
    {
     "data": {
      "text/plain": [
       "{'best', 'my', 'the'}"
      ]
     },
     "execution_count": 96,
     "metadata": {},
     "output_type": "execute_result"
    }
   ],
   "source": [
    "def uncommon():\n",
    "    string1=input(\"enter a string_1: \")\n",
    "    string2=input(\"enter a string_2: \")\n",
    "    string1_split=string1.split(\" \")\n",
    "    string2_split=string2.split(\" \")\n",
    "    k = set(string1_split).symmetric_difference(set(string2_split))\n",
    "    return k\n",
    "    \n",
    "uncommon()\n",
    "        "
   ]
  },
  {
   "cell_type": "markdown",
   "metadata": {},
   "source": [
    "6. Write a Python to find all duplicate characters in string?\n"
   ]
  },
  {
   "cell_type": "code",
   "execution_count": 120,
   "metadata": {},
   "outputs": [
    {
     "name": "stdout",
     "output_type": "stream",
     "text": [
      "enter a string_1: i love my country\n",
      "enter a string_2: india is my country\n"
     ]
    },
    {
     "data": {
      "text/plain": [
       "['my', 'country']"
      ]
     },
     "execution_count": 120,
     "metadata": {},
     "output_type": "execute_result"
    }
   ],
   "source": [
    "def common():\n",
    "    string1=input(\"enter a string_1: \")\n",
    "    string2=input(\"enter a string_2: \")\n",
    "    string1_split=string1.split(\" \")\n",
    "    string2_split=string2.split(\" \")\n",
    "    k=[]\n",
    "    for i in string1_split:\n",
    "        for j in string2_split:\n",
    "            if i == j :\n",
    "                k.append(i)\n",
    "    return k\n",
    "                \n",
    "                \n",
    "    \n",
    "common()"
   ]
  },
  {
   "cell_type": "markdown",
   "metadata": {},
   "source": [
    "7. Write a Python Program to check if a string contains any special character?"
   ]
  },
  {
   "cell_type": "code",
   "execution_count": 126,
   "metadata": {},
   "outputs": [
    {
     "name": "stdout",
     "output_type": "stream",
     "text": [
      "enter a string: hi! my name is radhika\n",
      "['!'] is the special chartacter\n"
     ]
    }
   ],
   "source": [
    "def special_char():\n",
    "    spl_chars = '[@_!#$%^&*()<>?/\\|}{~:]'\n",
    "    ch=input(\"enter a string: \")\n",
    "    char=[]\n",
    "    for i in ch:\n",
    "        if i in spl_chars:\n",
    "            char.append(i)\n",
    "    print(f\"{char} is the special chartacter\") \n",
    "        \n",
    "special_char()\n",
    "    "
   ]
  },
  {
   "cell_type": "code",
   "execution_count": null,
   "metadata": {},
   "outputs": [],
   "source": []
  }
 ],
 "metadata": {
  "kernelspec": {
   "display_name": "Python 3 (ipykernel)",
   "language": "python",
   "name": "python3"
  },
  "language_info": {
   "codemirror_mode": {
    "name": "ipython",
    "version": 3
   },
   "file_extension": ".py",
   "mimetype": "text/x-python",
   "name": "python",
   "nbconvert_exporter": "python",
   "pygments_lexer": "ipython3",
   "version": "3.9.12"
  }
 },
 "nbformat": 4,
 "nbformat_minor": 4
}
